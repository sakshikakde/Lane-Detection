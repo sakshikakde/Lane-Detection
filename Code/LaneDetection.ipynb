{
 "metadata": {
  "language_info": {
   "codemirror_mode": {
    "name": "ipython",
    "version": 3
   },
   "file_extension": ".py",
   "mimetype": "text/x-python",
   "name": "python",
   "nbconvert_exporter": "python",
   "pygments_lexer": "ipython3",
   "version": "3.6.9-final"
  },
  "orig_nbformat": 2,
  "kernelspec": {
   "name": "python3",
   "display_name": "Python 3.6.9 64-bit",
   "metadata": {
    "interpreter": {
     "hash": "31f2aee4e71d21fbe5cf8b01ff0e069b9275f58929596ceb00d14d90e3e16cd6"
    }
   }
  }
 },
 "nbformat": 4,
 "nbformat_minor": 2,
 "cells": [
  {
   "cell_type": "code",
   "execution_count": 1,
   "metadata": {},
   "outputs": [],
   "source": [
    "import numpy as np\n",
    "import cv2\n",
    "import scipy\n",
    "import matplotlib.pyplot as plt\n",
    "import math\n",
    "import os\n",
    "from Utils.ImageUtils import *\n",
    "from Utils.MiscUtils import *\n",
    "from Utils.GeometryUtils import *\n",
    "import random\n",
    "  \n",
    "\n",
    "K = np.array([[  9.037596e+02, 0.00000000e+00,6.957519e+02],\n",
    "            [  0.00000000e+00,9.019653e+02,2.242509e+02],\n",
    "            [  0.00000000e+00,0.00000000e+00,1.00000000e+00]])\n",
    "\n",
    "#Distortion Coefficients\n",
    "dist = np.array([[ -3.639558e-01, 1.788651e-01, 6.029694e-04, -3.922424e-04, -5.382460e-02]])\n",
    "\n",
    "\n"
   ]
  },
  {
   "cell_type": "code",
   "execution_count": 2,
   "metadata": {},
   "outputs": [
    {
     "output_type": "stream",
     "name": "stdout",
     "text": [
      "Loading images from  /home/sakshi/courses/ENPM673/sakshi_p2/Data/Project2_Dataset2/data_1/data\n"
     ]
    }
   ],
   "source": [
    "folder_name = \"/home/sakshi/courses/ENPM673/sakshi_p2/Data/Project2_Dataset2/data_1/data\"\n",
    "images = loadImages(folder_name)\n"
   ]
  },
  {
   "cell_type": "code",
   "execution_count": 4,
   "metadata": {},
   "outputs": [],
   "source": [
    "old_right_line = None\n",
    "old_left_line = None\n",
    "while images:\n",
    "    image = images.pop(0)\n",
    "    h, w, _ = image.shape\n",
    "    #undistort the image\n",
    "    image_undistorted = cv2.undistort(image, K, dist)\n",
    "\n",
    "    #remove noise\n",
    "    image_blur = cv2.GaussianBlur(image_undistorted, (5,5), 0)\n",
    "\n",
    "    #get bin\n",
    "    image_bin = extractWhite(image_blur, threshold = 250)\n",
    "\n",
    "    #roi\n",
    "    image_roi, cropped_image = getROI(image_bin, 0.45) \n",
    "\n",
    "    #extract points\n",
    "    filtered_image_roi = sobelXYThresh(image_roi)\n",
    "\n",
    "    #get lines\n",
    "    linesP = cv2.HoughLinesP(image_roi, 1, np.pi / 180, 50, None, 50, 10)\n",
    "\n",
    "    #select left and right lines\n",
    "    right_line, left_line = filterLines(linesP, old_right_line, old_left_line)\n",
    "    old_right_line = right_line\n",
    "    old_left_line = left_line\n",
    "\n",
    "    # extend line\n",
    "\n",
    "    #draw lines    \n",
    "    c = extendLines(right_line,  0.45 * h,  h)\n",
    "    d = extendLines(left_line,  0.45 * h,  h)\n",
    "    cv2.line(image_blur, (c[0], c[1]), (c[2], c[3]), (0,random.randint(0, 255),random.randint(0,255)), 3, cv2.LINE_AA)\n",
    "    cv2.line(image_blur, (d[0], d[1]), (d[2], d[3]), (0,random.randint(0, 255),random.randint(0,255)), 3, cv2.LINE_AA)\n",
    "\n",
    "    cv2.imshow('frame', image_blur)\n",
    "    cv2.waitKey(100)\n",
    "    if cv2.waitKey(1) & 0xFF == ord('q'):\n",
    "        break\n",
    "\n",
    "cv2.destroyAllWindows()"
   ]
  },
  {
   "cell_type": "code",
   "execution_count": 19,
   "metadata": {},
   "outputs": [],
   "source": [
    "image = images[10]\n",
    "h, w, _ = image.shape\n",
    "#undistort the image\n",
    "image_undistorted = cv2.undistort(image, K, dist)\n",
    "\n",
    "#remove noise\n",
    "image_blur = cv2.GaussianBlur(image_undistorted, (5,5), 0)\n",
    "\n",
    "#get bin\n",
    "image_bin = extractWhite(image_blur, threshold = 250)\n",
    "\n",
    "#roi\n",
    "image_roi, cropped_image = getROI(image_bin, 0.45) \n",
    "\n",
    "#extract points\n",
    "filtered_image_roi = sobelXYThresh(image_roi)\n",
    "\n",
    "#get lines\n",
    "linesP = cv2.HoughLinesP(image_roi, 1, np.pi / 180, 50, None, 50, 10)\n",
    "\n",
    "#select left and right lines\n",
    "right_line, left_line = filterLinestest(linesP, old_right_line, old_left_line)\n",
    "old_right_line = right_line\n",
    "old_left_line = left_line\n",
    "\n",
    "# extend line\n",
    "\n",
    "#draw lines    \n",
    "c = extendLines(right_line,  0.45 * h,  h)\n",
    "d = extendLines(left_line,  0.45 * h,  h)\n",
    "cv2.line(image_blur, (c[0], c[1]), (c[2], c[3]), (0,random.randint(0, 255),random.randint(0,255)), 3, cv2.LINE_AA)\n",
    "cv2.line(image_blur, (d[0], d[1]), (d[2], d[3]), (0,random.randint(0, 255),random.randint(0,255)), 3, cv2.LINE_AA)\n",
    "\n",
    "cv2.imshow('frame', image_blur)\n",
    "cv2.waitKey()\n",
    "cv2.destroyAllWindows()"
   ]
  },
  {
   "cell_type": "code",
   "execution_count": 14,
   "metadata": {},
   "outputs": [
    {
     "output_type": "execute_result",
     "data": {
      "text/plain": [
       "(230.4, 512)"
      ]
     },
     "metadata": {},
     "execution_count": 14
    }
   ],
   "source": [
    "0.45 * h,  h"
   ]
  },
  {
   "cell_type": "code",
   "execution_count": null,
   "metadata": {},
   "outputs": [],
   "source": []
  }
 ]
}