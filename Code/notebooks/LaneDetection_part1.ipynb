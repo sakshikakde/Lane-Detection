{
 "metadata": {
  "language_info": {
   "codemirror_mode": {
    "name": "ipython",
    "version": 3
   },
   "file_extension": ".py",
   "mimetype": "text/x-python",
   "name": "python",
   "nbconvert_exporter": "python",
   "pygments_lexer": "ipython3",
   "version": "3.6.9"
  },
  "orig_nbformat": 2,
  "kernelspec": {
   "name": "python3",
   "display_name": "Python 3",
   "language": "python"
  }
 },
 "nbformat": 4,
 "nbformat_minor": 2,
 "cells": [
  {
   "cell_type": "code",
   "execution_count": 1,
   "metadata": {},
   "outputs": [],
   "source": [
    "import numpy as np\n",
    "import cv2\n",
    "import scipy\n",
    "import matplotlib.pyplot as plt\n",
    "import math\n",
    "import os\n",
    "from Utils.ImageUtils import *\n",
    "from Utils.MiscUtils import *\n",
    "from Utils.GeometryUtils import *\n",
    "import random\n",
    "  "
   ]
  },
  {
   "cell_type": "code",
   "execution_count": 11,
   "metadata": {},
   "outputs": [],
   "source": [
    "def main():\n",
    "    \n",
    "    folder_name = \"/home/sakshi/courses/ENPM673/sakshi_p2/Data/Project2_Dataset2/data_1/data\"\n",
    "    config_file_name = \"/home/sakshi/courses/ENPM673/sakshi_p2/Data/Project2_Dataset2/data_1/camera_params.yaml\"\n",
    "    images = loadImages(folder_name)\n",
    "    K, D = getCamera(config_file_name)\n",
    "\n",
    "    old_right_line = None\n",
    "    old_left_line = None\n",
    "    while images:\n",
    "        image = images.pop(0)\n",
    "        \n",
    "        h, w, _ = image.shape\n",
    "        #undistort the image\n",
    "        image_undistorted = cv2.undistort(image, K, D)\n",
    "        image_overlay = image_undistorted.copy()\n",
    "\n",
    "        #remove noise\n",
    "        image_blur = cv2.GaussianBlur(image_undistorted, (5,5), 0)\n",
    "\n",
    "        #get bin\n",
    "        image_bin = extractWhite(image_blur, threshold = 250)\n",
    "\n",
    "        #roi\n",
    "        image_roi, cropped_image = getROI(image_bin, 0.45) \n",
    "\n",
    "        #extract points\n",
    "        # filtered_image_roi = sobelXYThresh(image_roi)\n",
    "\n",
    "        #get lines\n",
    "        linesP = cv2.HoughLinesP(image_roi, 1, np.pi / 180, 50, None, 50, 10)\n",
    "\n",
    "        #select left and right lines\n",
    "        right_line, left_line = filterLines(linesP, old_right_line, old_left_line)\n",
    "        old_right_line = right_line\n",
    "        old_left_line = left_line\n",
    "\n",
    "        # extend line\n",
    "        extended_right_line = extendLines(right_line,  0.55 * h,  h)\n",
    "        extended_left_line = extendLines(left_line,  0.55 * h,  h)\n",
    "\n",
    "        # fill polygon\n",
    "        corners = []\n",
    "        \n",
    "        corners.append([extended_left_line[0], extended_left_line[1]])\n",
    "        corners.append([extended_right_line[0], extended_right_line[1]])\n",
    "        corners.append([extended_right_line[2], extended_right_line[3]])\n",
    "        corners.append([extended_left_line[2], extended_left_line[3]])\n",
    "        corners = np.array(corners)\n",
    "\n",
    "        cv2.fillPoly(image_overlay, pts =[corners], color=(0,0,255))\n",
    "\n",
    "        #overlay\n",
    "        cv2.addWeighted(image_overlay, 0.4, image, 0.6,\n",
    "        0, image)\n",
    "        \n",
    "\n",
    "        #draw lines    \n",
    "        cv2.line(image, (extended_right_line[0], extended_right_line[1]), (extended_right_line[2], extended_right_line[3]), (0, 0, 255), 3, cv2.LINE_AA)\n",
    "        cv2.line(image, (extended_left_line[0], extended_left_line[1]), (extended_left_line[2], extended_left_line[3]), (0, 0, 255), 3, cv2.LINE_AA)\n",
    "\n",
    "        cv2.imshow('frame', image)\n",
    "        cv2.waitKey(10)\n",
    "        if cv2.waitKey(1) & 0xFF == ord('q'):\n",
    "            break\n",
    "\n",
    "    cv2.destroyAllWindows()"
   ]
  },
  {
   "cell_type": "code",
   "execution_count": 12,
   "metadata": {},
   "outputs": [
    {
     "output_type": "stream",
     "name": "stdout",
     "text": [
      "Loading images from  /home/sakshi/courses/ENPM673/sakshi_p2/Data/Project2_Dataset2/data_1/data\n"
     ]
    }
   ],
   "source": [
    "if __name__ == \"__main__\":\n",
    "    main()\n"
   ]
  },
  {
   "cell_type": "code",
   "execution_count": 52,
   "metadata": {},
   "outputs": [
    {
     "output_type": "stream",
     "name": "stdout",
     "text": [
      "Loading images from  /home/sakshi/courses/ENPM673/sakshi_p2/Data/Project2_Dataset2/data_1/data\n"
     ]
    }
   ],
   "source": [
    "folder_name = \"/home/sakshi/courses/ENPM673/sakshi_p2/Data/Project2_Dataset2/data_1/data\"\n",
    "config_file_name = \"/home/sakshi/courses/ENPM673/sakshi_p2/Data/Project2_Dataset2/data_1/camera_params.yaml\"\n",
    "images = loadImages(folder_name)\n",
    "K, D = getCamera(config_file_name)"
   ]
  },
  {
   "cell_type": "code",
   "execution_count": 53,
   "metadata": {},
   "outputs": [
    {
     "output_type": "error",
     "ename": "NameError",
     "evalue": "name 'old_right_line' is not defined",
     "traceback": [
      "\u001b[0;31m---------------------------------------------------------------------------\u001b[0m",
      "\u001b[0;31mNameError\u001b[0m                                 Traceback (most recent call last)",
      "\u001b[0;32m<ipython-input-53-8bbf3af843ec>\u001b[0m in \u001b[0;36m<module>\u001b[0;34m\u001b[0m\n\u001b[1;32m     19\u001b[0m \u001b[0;31m# #get lines\u001b[0m\u001b[0;34m\u001b[0m\u001b[0;34m\u001b[0m\u001b[0;34m\u001b[0m\u001b[0m\n\u001b[1;32m     20\u001b[0m \u001b[0mlinesP\u001b[0m \u001b[0;34m=\u001b[0m \u001b[0mcv2\u001b[0m\u001b[0;34m.\u001b[0m\u001b[0mHoughLinesP\u001b[0m\u001b[0;34m(\u001b[0m\u001b[0mimage_roi\u001b[0m\u001b[0;34m,\u001b[0m \u001b[0;36m1\u001b[0m\u001b[0;34m,\u001b[0m \u001b[0mnp\u001b[0m\u001b[0;34m.\u001b[0m\u001b[0mpi\u001b[0m \u001b[0;34m/\u001b[0m \u001b[0;36m180\u001b[0m\u001b[0;34m,\u001b[0m \u001b[0;36m50\u001b[0m\u001b[0;34m,\u001b[0m \u001b[0;32mNone\u001b[0m\u001b[0;34m,\u001b[0m \u001b[0;36m50\u001b[0m\u001b[0;34m,\u001b[0m \u001b[0;36m20\u001b[0m\u001b[0;34m)\u001b[0m\u001b[0;34m\u001b[0m\u001b[0;34m\u001b[0m\u001b[0m\n\u001b[0;32m---> 21\u001b[0;31m \u001b[0mright_line\u001b[0m\u001b[0;34m,\u001b[0m \u001b[0mleft_line\u001b[0m \u001b[0;34m=\u001b[0m \u001b[0mfilterLines\u001b[0m\u001b[0;34m(\u001b[0m\u001b[0mlinesP\u001b[0m\u001b[0;34m,\u001b[0m \u001b[0mold_right_line\u001b[0m\u001b[0;34m,\u001b[0m \u001b[0mold_left_line\u001b[0m\u001b[0;34m)\u001b[0m\u001b[0;34m\u001b[0m\u001b[0;34m\u001b[0m\u001b[0m\n\u001b[0m\u001b[1;32m     22\u001b[0m \u001b[0;34m\u001b[0m\u001b[0m\n\u001b[1;32m     23\u001b[0m \u001b[0;31m#draw lines\u001b[0m\u001b[0;34m\u001b[0m\u001b[0;34m\u001b[0m\u001b[0;34m\u001b[0m\u001b[0m\n",
      "\u001b[0;31mNameError\u001b[0m: name 'old_right_line' is not defined"
     ]
    }
   ],
   "source": [
    "image = images[1]\n",
    "h, w, _ = image.shape\n",
    "#undistort the image\n",
    "image_undistorted = cv2.undistort(image, K, D)\n",
    "image_overlay = image_undistorted.copy()\n",
    "\n",
    "#remove noise\n",
    "image_blur = cv2.GaussianBlur(image_undistorted, (5,5), 0)\n",
    "\n",
    "#get bin\n",
    "image_bin = extractWhite(image_blur, threshold = 250)\n",
    "\n",
    "#roi\n",
    "image_roi, cropped_image = getROI(image_bin, 0.45) \n",
    "\n",
    "#extract points\n",
    "filtered_image_roi = sobelXYThresh(image_roi)\n",
    "\n",
    "# #get lines\n",
    "linesP = cv2.HoughLinesP(image_roi, 1, np.pi / 180, 50, None, 50, 20)\n",
    "right_line, left_line = filterLines(linesP, None, None)\n",
    "\n",
    "#draw lines    \n",
    "cv2.line(image, (right_line[0], right_line[1]), (right_line[2], right_line[3]), (0, 0, 255), 3, cv2.LINE_AA)\n",
    "cv2.line(image, (left_line[0], left_line[1]), (left_line[2], left_line[3]), (0, 0, 255), 3, cv2.LINE_AA)\n",
    "\n",
    "\n",
    "\n",
    "cv2.imshow('frame', image)\n",
    "cv2.waitKey()\n",
    "cv2.destroyAllWindows()"
   ]
  },
  {
   "cell_type": "code",
   "execution_count": 50,
   "metadata": {},
   "outputs": [
    {
     "output_type": "execute_result",
     "data": {
      "text/plain": [
       "True"
      ]
     },
     "metadata": {},
     "execution_count": 50
    }
   ],
   "source": [
    "cv2.imwrite('i_roi.jpg',image_roi)"
   ]
  },
  {
   "cell_type": "code",
   "execution_count": null,
   "metadata": {},
   "outputs": [],
   "source": []
  }
 ]
}