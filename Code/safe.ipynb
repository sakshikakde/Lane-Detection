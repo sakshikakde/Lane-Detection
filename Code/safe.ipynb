{
 "metadata": {
  "language_info": {
   "codemirror_mode": {
    "name": "ipython",
    "version": 3
   },
   "file_extension": ".py",
   "mimetype": "text/x-python",
   "name": "python",
   "nbconvert_exporter": "python",
   "pygments_lexer": "ipython3",
   "version": 3
  },
  "orig_nbformat": 2
 },
 "nbformat": 4,
 "nbformat_minor": 2,
 "cells": [
  {
   "cell_type": "code",
   "execution_count": null,
   "metadata": {},
   "outputs": [],
   "source": [
    "    # gradx = abs_sobel_thresh(image_roi, orient='x', sobel_kernel=ksize, thresh=(grad_thx_min,grad_thx_max))\n",
    "    # grady = abs_sobel_thresh(image_roi, orient='y', sobel_kernel=ksize, thresh=(grad_thy_min, grad_thy_max))\n",
    "\n",
    "    # mag_binary = mag_thresh(image_roi, sobel_kernel=ksize, mag_thresh=(mag_th_min, mag_th_max))\n",
    "    # dir_binary = dir_threshold(image_roi, sobel_kernel=ksize, thresh=(dir_th_min, dir_th_max))\n",
    "\n",
    "    # combined = np.zeros_like(gradx)\n",
    "    # combined[((gradx == 1) & (grady == 1)) | ((mag_binary == 1) & (dir_binary == 1))] = 255"
   ]
  }
 ]
}